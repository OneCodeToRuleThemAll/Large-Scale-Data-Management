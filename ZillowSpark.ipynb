{
 "cells": [
  {
   "cell_type": "markdown",
   "id": "ffaa1301",
   "metadata": {},
   "source": [
    "## Nikolaos Papadopoulos\n",
    "\n",
    "#### Course: Large Scale Data Management\n",
    "\n"
   ]
  },
  {
   "cell_type": "code",
   "execution_count": 1,
   "id": "ac9837ff",
   "metadata": {},
   "outputs": [],
   "source": [
    "#Imports\n",
    "import pyspark\n",
    "import pyspark.sql.functions as F\n",
    "from pyspark.sql.functions import udf\n",
    "from pyspark.sql import *\n",
    "from pyspark.sql.types import *\n",
    "from pyspark import SparkContext, SparkConf\n",
    "from pyspark.sql import *\n",
    "from pyspark.sql.functions import udf\n",
    "from pyspark.sql.types import *\n",
    "import os\n",
    "import sys\n",
    "import re"
   ]
  },
  {
   "cell_type": "code",
   "execution_count": 2,
   "id": "9c5670d0",
   "metadata": {},
   "outputs": [],
   "source": [
    "#Adding the below configurations to avoid errors\n",
    "os.environ['PYSPARK_PYTHON'] = sys.executable\n",
    "os.environ['PYSPARK_DRIVER_PYTHON'] = sys.executable\n",
    "\n",
    "#Build session\n",
    "spark = SparkSession.builder.appName(\"zillow\").getOrCreate()"
   ]
  },
  {
   "cell_type": "code",
   "execution_count": 3,
   "id": "60d2051f",
   "metadata": {},
   "outputs": [],
   "source": [
    "#Apache Arrow/Most beneficial to Python users that work with Pandas/NumPy data\n",
    "spark.conf.set(\"spark.sql.execution.arrow.pyspark.enabled\", \"true\")"
   ]
  },
  {
   "cell_type": "code",
   "execution_count": 4,
   "id": "9e152bdb",
   "metadata": {},
   "outputs": [],
   "source": [
    "#Reading data\n",
    "df = spark.read.csv(r'zillow.csv',header=True)"
   ]
  },
  {
   "cell_type": "code",
   "execution_count": 5,
   "id": "ac4a19f7",
   "metadata": {},
   "outputs": [
    {
     "name": "stdout",
     "output_type": "stream",
     "text": [
      "+--------------+-------+------------+-----+-----------+----------+--------------------+--------------------+--------------------+\n",
      "|         title|address|        city|state|postal_code|     price|  facts and features|real estate provider|                 url|\n",
      "+--------------+-------+------------+-----+-----------+----------+--------------------+--------------------+--------------------+\n",
      "|Condo for sale|   null|  Somerville|   MA|      02145|  $342,000|2 bds, 1.0 ba ,70...|William Raveis R....|https://www.zillo...|\n",
      "|Condo for sale|   null|      Boston|   MA|      02116|$1,700,000|2 bds, 2.0 ba ,12...|Century 21 North ...|https://www.zillo...|\n",
      "|Condo for sale|   null|      Boston|   MA|      02118|  $336,500|1 bds, 1.0 ba ,10...|Maloney Propertie...|https://www.zillo...|\n",
      "|House for sale|   null|      Boston|   MA|      02118|$9,950,000|4 bds, 7.0 ba ,68...|Campion & Company...|https://www.zillo...|\n",
      "|Condo for sale|   null|      Boston|   MA|      02128|  $479,000|2 bds, 3.0 ba ,10...|Berkshire Hathawa...|https://www.zillo...|\n",
      "|House for sale|   null| East Boston|   MA|      02128|  $899,000|3 bds, 3.0 ba ,23...|Berkshire Hathawa...|https://www.zillo...|\n",
      "|Condo for sale|   null|  Somerville|   MA|      02145|  $397,300|2 bds, 1.0 ba ,78...|William Raveis R....|https://www.zillo...|\n",
      "|Condo for sale|   null|South Boston|   MA|      02127|  $619,900|2 bds, 1.0 ba ,85...|Bento Real Estate...|https://www.zillo...|\n",
      "|Condo for sale|   null|      Boston|   MA|      02116|  $850,000|1 bds, 1.0 ba ,67...|Engel & Volkers B...|https://www.zillo...|\n",
      "|Condo for sale|   null|      Boston|   MA|      02114|  $649,900|2 bds, 1.0 ba ,51...|Leading Edge Real...|https://www.zillo...|\n",
      "|Condo for sale|   null|      Boston|   MA|      02114|  $625,000|2 bds, 2.0 ba ,10...|Keller Williams R...|https://www.zillo...|\n",
      "|Condo for sale|   null|  Somerville|   MA|      02143|   $80,000|0 bds, None ba ,1...|The Greene Realty...|https://www.zillo...|\n",
      "|Condo for sale|   null|      Boston|   MA|      02116|$1,425,000|3 bds, 2.0 ba ,10...|        Redfin Corp.|https://www.zillo...|\n",
      "|Condo for sale|   null|      Boston|   MA|      02128|  $199,000|2 bds, 1.0 ba ,62...| Perlera Real Estate|https://www.zillo...|\n",
      "|House for sale|   null|      Boston|   MA|      02113|$1,200,000|2 bds, 1.0 ba ,11...|       CL Properties|https://www.zillo...|\n",
      "|Condo for sale|   null|South Boston|   MA|      02127|  $499,950|1 bds, 1.0 ba ,50...|      One Way Realty|https://www.zillo...|\n",
      "|Condo for sale|   null| Charlestown|   MA|      02129|  $739,000|2 bds, 2.0 ba ,93...|             Compass|https://www.zillo...|\n",
      "|House for sale|   null|      Boston|   MA|      02129|$1,119,000|3 bds, 4.0 ba ,16...|All Star Realty, ...|https://www.zillo...|\n",
      "|House for sale|   null|South Boston|   MA|      02127|$1,699,000|4 bds, 3.0 ba ,20...|             Compass|https://www.zillo...|\n",
      "|House for sale|   null|      Boston|   MA|      02128|  $589,000|2 bds, 2.0 ba ,12...|Gibson Sotheby's ...|https://www.zillo...|\n",
      "+--------------+-------+------------+-----+-----------+----------+--------------------+--------------------+--------------------+\n",
      "only showing top 20 rows\n",
      "\n"
     ]
    }
   ],
   "source": [
    "#First glance over data\n",
    "df.show(20)"
   ]
  },
  {
   "cell_type": "code",
   "execution_count": 6,
   "id": "98ac2457",
   "metadata": {},
   "outputs": [],
   "source": [
    "#Extract number of bedrooms.\n",
    "fn =  F.udf(lambda x: x.split(',')[0].split(' ')[0])\n",
    "df = df.withColumn('beds',fn('facts and features'))\n",
    "\n",
    "#Extract number of bathrooms. \n",
    "fn2 = F.udf(lambda x: x.split(',')[1].split(' ')[1])\n",
    "df = df.withColumn('baths',fn2('facts and features'))\n",
    "\n",
    "#Extract sqft.\n",
    "fn3 = F.udf(lambda x:x.split(',')[2].split(' ')[0])\n",
    "df = df.withColumn('sqft',fn3('facts and features'))"
   ]
  },
  {
   "cell_type": "code",
   "execution_count": 7,
   "id": "5c1a58e3",
   "metadata": {},
   "outputs": [],
   "source": [
    "#Replacing Nan Values\n",
    "df = df.replace('None','0')\n",
    "\n",
    "#Transforming strings into integers\n",
    "fn4 = F.udf(lambda x: int(float(x)))\n",
    "df = df.withColumn('baths',fn4('baths'))\n",
    "df = df.withColumn('beds',fn4('beds'))\n",
    "df = df.withColumn('sqft',fn4('sqft'))"
   ]
  },
  {
   "cell_type": "code",
   "execution_count": 8,
   "id": "77ae278d",
   "metadata": {},
   "outputs": [],
   "source": [
    "#Extract type. \n",
    "\n",
    "fn5 = F.udf(lambda x:'Condo' if 'condo' in x.lower() else('House' if 'house' in x.lower() else('Multi-Family-Home' if 'home' in x.lower() else ('Lot/Land' if 'land' in x.lower() else 'House' ))))\n",
    "df = df.withColumn('type',fn5('title'))"
   ]
  },
  {
   "cell_type": "code",
   "execution_count": 9,
   "id": "a006e24f",
   "metadata": {},
   "outputs": [],
   "source": [
    "#Extract offer.This can be `sale`, `rent`, `sold`, `forclose`.\n",
    "\n",
    "fn6 = F.udf(lambda x:'Foreclose' if x == \"Foreclosure\" else ('Sold' if 'sold' in x.lower() else ('Rent' if 'rent' in x.lower() else ('Sale' if 'sale' in x.lower() else 'Other'))))\n",
    "df = df.withColumn('offer',fn6('title'))"
   ]
  },
  {
   "cell_type": "code",
   "execution_count": 10,
   "id": "19ad8581",
   "metadata": {},
   "outputs": [],
   "source": [
    "#Filter out listings that are not for sale.\n",
    "df = df[df.offer=='Sale']"
   ]
  },
  {
   "cell_type": "code",
   "execution_count": 11,
   "id": "33729fcf",
   "metadata": {},
   "outputs": [],
   "source": [
    "#Extract price. You will implement a UDF that processes the `price` column and extract the price.\n",
    "#Prices are stored as strings in the CSV. This UDF parses the string and returns the price as an integer.\n",
    "\n",
    "fn9 = F.udf(lambda x: int(re.sub(\"[^0-9]\", \"\",x)))\n",
    "df = df.withColumn('prices',fn9('price'))"
   ]
  },
  {
   "cell_type": "code",
   "execution_count": 12,
   "id": "f41d57c0",
   "metadata": {},
   "outputs": [],
   "source": [
    "#Filter out listings with more than 10 bedrooms\n",
    "\n",
    "df = df[df.beds<=10]"
   ]
  },
  {
   "cell_type": "code",
   "execution_count": 13,
   "id": "5733ff40",
   "metadata": {},
   "outputs": [],
   "source": [
    "#Filter out listings with price greater than 20000000 and lower than 100000\n",
    "\n",
    "df = df[(df.prices<20000000) & (df.prices >100000)]"
   ]
  },
  {
   "cell_type": "code",
   "execution_count": 14,
   "id": "86a28c40",
   "metadata": {},
   "outputs": [],
   "source": [
    "#Filter out listings that are not houses\n",
    "\n",
    "df = df[df.type==\"House\"]"
   ]
  },
  {
   "cell_type": "code",
   "execution_count": 15,
   "id": "c44fd9b1",
   "metadata": {},
   "outputs": [
    {
     "name": "stdout",
     "output_type": "stream",
     "text": [
      "+----+--------------------+\n",
      "|beds|avg((prices / sqft))|\n",
      "+----+--------------------+\n",
      "|   7|  1126.0252348993286|\n",
      "|   3|   687.2172712125251|\n",
      "|   8|   1567.647058823529|\n",
      "|   0|              1250.0|\n",
      "|   5|   733.9532477532824|\n",
      "|   6|   422.3111656297147|\n",
      "|   9|  1108.1412183984849|\n",
      "|   4|   909.1473996440552|\n",
      "|   2|   716.0259107836451|\n",
      "+----+--------------------+\n",
      "\n"
     ]
    }
   ],
   "source": [
    "#Calculate average price per sqft for houses for sale grouping them by the number of bedrooms.\n",
    "#Sometimes an error pops up -> Re-run cell.\n",
    "\n",
    "df.groupBy(\"beds\").agg(F.avg(df.prices/df.sqft)).show()"
   ]
  }
 ],
 "metadata": {
  "kernelspec": {
   "display_name": "Python 3 (ipykernel)",
   "language": "python",
   "name": "python3"
  },
  "language_info": {
   "codemirror_mode": {
    "name": "ipython",
    "version": 3
   },
   "file_extension": ".py",
   "mimetype": "text/x-python",
   "name": "python",
   "nbconvert_exporter": "python",
   "pygments_lexer": "ipython3",
   "version": "3.8.8"
  }
 },
 "nbformat": 4,
 "nbformat_minor": 5
}
